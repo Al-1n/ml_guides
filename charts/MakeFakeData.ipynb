{
 "cells": [
  {
   "cell_type": "markdown",
   "metadata": {},
   "source": [
    "## Generating Fake Data \n",
    "### Creating The Widget Factory\n",
    "\n",
    "Here we explore methods for generating fake data and create a dataset for our fake widget factory to be used in future analyses.\n",
    "\n"
   ]
  },
  {
   "cell_type": "code",
   "execution_count": 1,
   "metadata": {},
   "outputs": [],
   "source": [
    "import pandas as pd\n",
    "import numpy as np\n",
    "import matplotlib.pyplot as plt\n",
    "import seaborn as sns\n",
    "from faker import Faker\n",
    "import random\n",
    "import pprint"
   ]
  },
  {
   "cell_type": "code",
   "execution_count": 2,
   "metadata": {},
   "outputs": [],
   "source": [
    "# setting up default plotting parameters\n",
    "%matplotlib inline\n",
    "\n",
    "plt.rcParams['figure.figsize'] = [20.0, 7.0]\n",
    "plt.rcParams.update({'font.size': 22,})\n",
    "\n",
    "sns.set_palette('viridis')\n",
    "sns.set_style('white')\n",
    "sns.set_context('talk', font_scale=0.8)"
   ]
  },
  {
   "cell_type": "markdown",
   "metadata": {},
   "source": [
    "## Faker\n",
    "A python package for easily creating fake data"
   ]
  },
  {
   "cell_type": "code",
   "execution_count": 3,
   "metadata": {},
   "outputs": [
    {
     "name": "stdout",
     "output_type": "stream",
     "text": [
      "Ryan White\n",
      "2009-10-04\n",
      "Green\n"
     ]
    }
   ],
   "source": [
    "# initialize a generator\n",
    "fake = Faker()\n",
    "\n",
    "#create some fake data\n",
    "print(fake.name())\n",
    "print(fake.date_between(start_date='-30y', end_date='today'))\n",
    "print(fake.color_name())"
   ]
  },
  {
   "cell_type": "code",
   "execution_count": 4,
   "metadata": {},
   "outputs": [
    {
     "data": {
      "text/plain": [
       "['DarkSlateBlue', 'SandyBrown', 'LawnGreen', 'FloralWhite']"
      ]
     },
     "execution_count": 4,
     "metadata": {},
     "output_type": "execute_result"
    }
   ],
   "source": [
    "# create a list of color names\n",
    "colors = [fake.color_name() for x in range(4)]\n",
    "colors"
   ]
  },
  {
   "cell_type": "code",
   "execution_count": 5,
   "metadata": {},
   "outputs": [
    {
     "name": "stdout",
     "output_type": "stream",
     "text": [
      "{ 'address': '475 Carmen Mission\\nNew Daisyberg, DC 45531',\n",
      "  'birthdate': datetime.date(1974, 4, 21),\n",
      "  'blood_group': 'A-',\n",
      "  'company': 'Morris-Clay',\n",
      "  'current_location': (Decimal('87.339283'), Decimal('123.508787')),\n",
      "  'job': 'Illustrator',\n",
      "  'mail': 'williamskatrina@hotmail.com',\n",
      "  'name': 'Tony Blankenship',\n",
      "  'residence': '1662 Donna Manors\\nAliberg, AL 95578',\n",
      "  'sex': 'M',\n",
      "  'ssn': '269-53-3579',\n",
      "  'username': 'kaufmanjessica',\n",
      "  'website': ['https://wade-jimenez.com/', 'http://www.mayer-hodge.com/']}\n"
     ]
    }
   ],
   "source": [
    "# create a fake profile\n",
    "pp = pprint.PrettyPrinter(indent=2)\n",
    "pp.pprint(fake.profile())"
   ]
  },
  {
   "cell_type": "code",
   "execution_count": 6,
   "metadata": {},
   "outputs": [
    {
     "data": {
      "text/plain": [
       "[{'Worker Name': 'Shannon Ellis', 'Hire Date': datetime.date(2015, 9, 2)},\n",
       " {'Worker Name': 'Destiny Gonzalez', 'Hire Date': datetime.date(2013, 1, 21)},\n",
       " {'Worker Name': 'Zachary Diaz', 'Hire Date': datetime.date(2012, 5, 5)},\n",
       " {'Worker Name': 'Nicole Hahn', 'Hire Date': datetime.date(2003, 12, 21)},\n",
       " {'Worker Name': 'Patrick Hamilton', 'Hire Date': datetime.date(2016, 10, 10)},\n",
       " {'Worker Name': 'Alyssa Taylor', 'Hire Date': datetime.date(2007, 11, 25)},\n",
       " {'Worker Name': 'Matthew Moreno', 'Hire Date': datetime.date(1994, 6, 24)},\n",
       " {'Worker Name': 'Edward Thomas', 'Hire Date': datetime.date(2010, 11, 20)},\n",
       " {'Worker Name': 'Alexandra Moore', 'Hire Date': datetime.date(1995, 10, 29)},\n",
       " {'Worker Name': 'Amy Calderon', 'Hire Date': datetime.date(2009, 6, 26)}]"
      ]
     },
     "execution_count": 6,
     "metadata": {},
     "output_type": "execute_result"
    }
   ],
   "source": [
    "fake_workers = [\n",
    "    {'Worker Name':fake.name(), \n",
    "     'Hire Date':fake.date_between(start_date='-30y', end_date='today')\n",
    "    } for x in range(10)]\n",
    "                 \n",
    "fake_workers"
   ]
  },
  {
   "cell_type": "markdown",
   "metadata": {},
   "source": [
    "### numpy.random"
   ]
  },
  {
   "cell_type": "code",
   "execution_count": 7,
   "metadata": {},
   "outputs": [
    {
     "data": {
      "text/plain": [
       "'DarkSlateBlue'"
      ]
     },
     "execution_count": 7,
     "metadata": {},
     "output_type": "execute_result"
    }
   ],
   "source": [
    "# numpys random choice to select a color from our colors list\n",
    "np.random.choice(colors)"
   ]
  },
  {
   "cell_type": "code",
   "execution_count": 8,
   "metadata": {},
   "outputs": [
    {
     "data": {
      "text/plain": [
       "['FloralWhite', 'FloralWhite', 'SandyBrown', 'DarkSlateBlue', 'FloralWhite']"
      ]
     },
     "execution_count": 8,
     "metadata": {},
     "output_type": "execute_result"
    }
   ],
   "source": [
    "# generate an array of colors with a list comprehension\n",
    "[np.random.choice(colors) for x in range(5)]"
   ]
  },
  {
   "cell_type": "code",
   "execution_count": 9,
   "metadata": {},
   "outputs": [
    {
     "data": {
      "text/plain": [
       "['SandyBrown',\n",
       " 'SandyBrown',\n",
       " 'SandyBrown',\n",
       " 'SandyBrown',\n",
       " 'SandyBrown',\n",
       " 'SandyBrown',\n",
       " 'DarkSlateBlue',\n",
       " 'LawnGreen',\n",
       " 'SandyBrown',\n",
       " 'SandyBrown']"
      ]
     },
     "execution_count": 9,
     "metadata": {},
     "output_type": "execute_result"
    }
   ],
   "source": [
    "# generate an array of colors with differing probabilities\n",
    "[np.random.choice(colors, p=[0.1, 0.6, 0.1, 0.2]) for x in range(10)]"
   ]
  },
  {
   "cell_type": "code",
   "execution_count": 10,
   "metadata": {},
   "outputs": [
    {
     "data": {
      "image/png": "[encoded data removed]",
      "text/plain": [
       "<Figure size 1440x504 with 3 Axes>"
      ]
     },
     "metadata": {},
     "output_type": "display_data"
    }
   ],
   "source": [
    "# generate normal distribution\n",
    "normal_dist = np.random.normal(loc=5, scale=1, size=1000)\n",
    "\n",
    "# generate gamma distribution\n",
    "gamma_dist = np.random.gamma(shape=3, scale=1, size=1000)\n",
    "\n",
    "# generate exponential distribution\n",
    "exp_dist = np.random.exponential(scale=4, size=1000)\n",
    "\n",
    "# histograms to visualize the distributions\n",
    "fig, [ax1, ax2, ax3] = plt.subplots(1,3)\n",
    "ax1.hist(normal_dist)\n",
    "ax1.set_title('Normal Distribution')\n",
    "\n",
    "ax2.hist(gamma_dist)\n",
    "ax2.set_title('Gamma Distribution')\n",
    "\n",
    "ax3.hist(exp_dist)\n",
    "ax3.set_title('Exponential Distribution')\n",
    "\n",
    "plt.show()"
   ]
  },
  {
   "cell_type": "markdown",
   "metadata": {},
   "source": [
    "### Making our Widget Factory DataFrames"
   ]
  },
  {
   "cell_type": "code",
   "execution_count": 11,
   "metadata": {},
   "outputs": [
    {
     "data": {
      "text/html": [
       "<div>\n",
       "<style scoped>\n",
       "    .dataframe tbody tr th:only-of-type {\n",
       "        vertical-align: middle;\n",
       "    }\n",
       "\n",
       "    .dataframe tbody tr th {\n",
       "        vertical-align: top;\n",
       "    }\n",
       "\n",
       "    .dataframe thead th {\n",
       "        text-align: right;\n",
       "    }\n",
       "</style>\n",
       "<table border=\"1\" class=\"dataframe\">\n",
       "  <thead>\n",
       "    <tr style=\"text-align: right;\">\n",
       "      <th></th>\n",
       "      <th>Worker ID</th>\n",
       "      <th>Worker Name</th>\n",
       "      <th>Hire Date</th>\n",
       "      <th>Worker Status</th>\n",
       "      <th>Team</th>\n",
       "    </tr>\n",
       "  </thead>\n",
       "  <tbody>\n",
       "    <tr>\n",
       "      <th>0</th>\n",
       "      <td>1000</td>\n",
       "      <td>Paul Clark</td>\n",
       "      <td>2020-09-12</td>\n",
       "      <td>Part Time</td>\n",
       "      <td>SeaGreen</td>\n",
       "    </tr>\n",
       "    <tr>\n",
       "      <th>1</th>\n",
       "      <td>1001</td>\n",
       "      <td>Andrea White</td>\n",
       "      <td>2001-11-08</td>\n",
       "      <td>Full Time</td>\n",
       "      <td>Crimson</td>\n",
       "    </tr>\n",
       "    <tr>\n",
       "      <th>2</th>\n",
       "      <td>1002</td>\n",
       "      <td>Daniel Taylor</td>\n",
       "      <td>2002-06-10</td>\n",
       "      <td>Part Time</td>\n",
       "      <td>LightSteelBlue</td>\n",
       "    </tr>\n",
       "    <tr>\n",
       "      <th>3</th>\n",
       "      <td>1003</td>\n",
       "      <td>Ann Manning</td>\n",
       "      <td>2019-09-13</td>\n",
       "      <td>Per Diem</td>\n",
       "      <td>Crimson</td>\n",
       "    </tr>\n",
       "    <tr>\n",
       "      <th>4</th>\n",
       "      <td>1004</td>\n",
       "      <td>Brenda Gonzales</td>\n",
       "      <td>2000-12-23</td>\n",
       "      <td>Part Time</td>\n",
       "      <td>Crimson</td>\n",
       "    </tr>\n",
       "  </tbody>\n",
       "</table>\n",
       "</div>"
      ],
      "text/plain": [
       "   Worker ID      Worker Name   Hire Date Worker Status            Team\n",
       "0       1000       Paul Clark  2020-09-12     Part Time        SeaGreen\n",
       "1       1001     Andrea White  2001-11-08     Full Time         Crimson\n",
       "2       1002    Daniel Taylor  2002-06-10     Part Time  LightSteelBlue\n",
       "3       1003      Ann Manning  2019-09-13      Per Diem         Crimson\n",
       "4       1004  Brenda Gonzales  2000-12-23     Part Time         Crimson"
      ]
     },
     "execution_count": 11,
     "metadata": {},
     "output_type": "execute_result"
    }
   ],
   "source": [
    "# create some fake data\n",
    "fake = Faker()\n",
    "\n",
    "# function to create a dataframe with fake values for our workers\n",
    "def make_workers(num):\n",
    "    \n",
    "    # lists to randomly assign to workers\n",
    "    status_list = ['Full Time', 'Part Time', 'Per Diem']\n",
    "    team_list = [fake.color_name() for x in range(4)]\n",
    "    \n",
    "\n",
    "    fake_workers = [{'Worker ID':x+1000,\n",
    "                  'Worker Name':fake.name(), \n",
    "                  'Hire Date':fake.date_between(start_date='-30y', end_date='today'),\n",
    "                  'Worker Status':np.random.choice(status_list, p=[0.50, 0.30, 0.20]), # assign items from list with different probabilities\n",
    "                  'Team':np.random.choice(team_list)} for x in range(num)]\n",
    "        \n",
    "    return fake_workers\n",
    "\n",
    "worker_df = pd.DataFrame(make_workers(num=5000))\n",
    "worker_df.head()"
   ]
  },
  {
   "cell_type": "code",
   "execution_count": 12,
   "metadata": {},
   "outputs": [
    {
     "name": "stdout",
     "output_type": "stream",
     "text": [
      "(2817555, 5)\n"
     ]
    },
    {
     "data": {
      "text/html": [
       "<div>\n",
       "<style scoped>\n",
       "    .dataframe tbody tr th:only-of-type {\n",
       "        vertical-align: middle;\n",
       "    }\n",
       "\n",
       "    .dataframe tbody tr th {\n",
       "        vertical-align: top;\n",
       "    }\n",
       "\n",
       "    .dataframe thead th {\n",
       "        text-align: right;\n",
       "    }\n",
       "</style>\n",
       "<table border=\"1\" class=\"dataframe\">\n",
       "  <thead>\n",
       "    <tr style=\"text-align: right;\">\n",
       "      <th></th>\n",
       "      <th>Item Number</th>\n",
       "      <th>Step 1</th>\n",
       "      <th>Step 2</th>\n",
       "      <th>Step 3</th>\n",
       "      <th>Worker ID</th>\n",
       "    </tr>\n",
       "  </thead>\n",
       "  <tbody>\n",
       "    <tr>\n",
       "      <th>0</th>\n",
       "      <td>4411865360-1000</td>\n",
       "      <td>0.635369</td>\n",
       "      <td>4.377276</td>\n",
       "      <td>2.734590</td>\n",
       "      <td>1000</td>\n",
       "    </tr>\n",
       "    <tr>\n",
       "      <th>1</th>\n",
       "      <td>4411865392-1000</td>\n",
       "      <td>2.047647</td>\n",
       "      <td>3.870909</td>\n",
       "      <td>12.698644</td>\n",
       "      <td>1000</td>\n",
       "    </tr>\n",
       "    <tr>\n",
       "      <th>2</th>\n",
       "      <td>4411865424-1000</td>\n",
       "      <td>0.870676</td>\n",
       "      <td>6.347963</td>\n",
       "      <td>7.655127</td>\n",
       "      <td>1000</td>\n",
       "    </tr>\n",
       "    <tr>\n",
       "      <th>3</th>\n",
       "      <td>4411865456-1000</td>\n",
       "      <td>2.938096</td>\n",
       "      <td>3.933764</td>\n",
       "      <td>3.550750</td>\n",
       "      <td>1000</td>\n",
       "    </tr>\n",
       "    <tr>\n",
       "      <th>4</th>\n",
       "      <td>4411865488-1000</td>\n",
       "      <td>2.951892</td>\n",
       "      <td>3.363985</td>\n",
       "      <td>3.820368</td>\n",
       "      <td>1000</td>\n",
       "    </tr>\n",
       "  </tbody>\n",
       "</table>\n",
       "</div>"
      ],
      "text/plain": [
       "       Item Number    Step 1    Step 2     Step 3  Worker ID\n",
       "0  4411865360-1000  0.635369  4.377276   2.734590       1000\n",
       "1  4411865392-1000  2.047647  3.870909  12.698644       1000\n",
       "2  4411865424-1000  0.870676  6.347963   7.655127       1000\n",
       "3  4411865456-1000  2.938096  3.933764   3.550750       1000\n",
       "4  4411865488-1000  2.951892  3.363985   3.820368       1000"
      ]
     },
     "execution_count": 12,
     "metadata": {},
     "output_type": "execute_result"
    }
   ],
   "source": [
    "# function to create widget data\n",
    "\n",
    "def make_widget_data(num):\n",
    "    \n",
    "    fake_widgets = [{'Item Number':id(y),\n",
    "                     'Step 1':np.random.gamma(shape=3, scale=1),\n",
    "                     'Step 2':np.random.normal(5), \n",
    "                     'Step 3':np.random.exponential(4)} for y in range(num)]\n",
    "    \n",
    "    return fake_widgets\n",
    "\n",
    "# empty list to store our widget dataframes in    \n",
    "dfs_list = []\n",
    "\n",
    "# now lets make some widget data for each worker\n",
    "# iterate through the worker dataframe\n",
    "for index, row in worker_df.iterrows():\n",
    "    \n",
    "    # not all workers work at the same rate - or the same number of hours\n",
    "    # randomly select a number of widgets for them to create based on 'worker status'\n",
    "    if row['Worker Status'] == 'Full Time':\n",
    "        num_widgets = random.randrange(500, 1000)\n",
    "    elif row['Worker Status'] == 'Part Time':\n",
    "        num_widgets = random.randrange(100, 500)\n",
    "    else:\n",
    "        num_widgets = random.randrange(1, 1000)\n",
    "    \n",
    "    # make widgets for each worker\n",
    "    tmp_widgets = pd.DataFrame(make_widget_data(num=num_widgets))\n",
    "    \n",
    "    # add worker id so we know who made the widget\n",
    "    tmp_widgets['Worker ID'] = row['Worker ID']\n",
    "    \n",
    "    # make sure item number is unique by appending worker id\n",
    "    tmp_widgets['Item Number'] = tmp_widgets['Item Number'].astype('str')+ '-' + tmp_widgets['Worker ID'].astype('str')\n",
    "    \n",
    "    # append to df list\n",
    "    dfs_list.append(tmp_widgets)\n",
    "    \n",
    "# concatenate all the dfs \n",
    "widget_df = pd.concat(dfs_list)\n",
    "print(widget_df.shape)\n",
    "widget_df.head()\n"
   ]
  },
  {
   "cell_type": "code",
   "execution_count": 14,
   "metadata": {},
   "outputs": [],
   "source": [
    "worker_df.to_csv('data/workers.csv', index=False)\n",
    "widget_df.to_csv('data/widgets.csv', index=False)"
   ]
  },
  {
   "cell_type": "code",
   "execution_count": null,
   "metadata": {},
   "outputs": [],
   "source": []
  }
 ],
 "metadata": {
  "kernelspec": {
   "display_name": "Python 3",
   "language": "python",
   "name": "python3"
  },
  "language_info": {
   "codemirror_mode": {
    "name": "ipython",
    "version": 3
   },
   "file_extension": ".py",
   "mimetype": "text/x-python",
   "name": "python",
   "nbconvert_exporter": "python",
   "pygments_lexer": "ipython3",
   "version": "3.9.1"
  }
 },
 "nbformat": 4,
 "nbformat_minor": 4
}
