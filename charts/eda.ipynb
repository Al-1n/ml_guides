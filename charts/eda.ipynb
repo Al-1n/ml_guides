{
 "cells": [
  {
   "cell_type": "markdown",
   "metadata": {},
   "source": [
    "# EDA Guide  \n",
    "\n",
    "A popular take home assignment for data analyst positions involves exploratory data analysis or EDA.  You are given a dataset or three and told to analyze the data.  Where to even start?  Here we work through an exploratory analysis."
   ]
  },
  {
   "cell_type": "code",
   "execution_count": 1,
   "metadata": {},
   "outputs": [],
   "source": [
    "import pandas as pd\n",
    "import numpy as np\n",
    "\n",
    "import matplotlib.pyplot as plt\n",
    "import seaborn as sns\n",
    "from matplotlib.dates import DateFormatter\n",
    "\n",
    "import warnings\n",
    "warnings.filterwarnings('ignore')"
   ]
  },
  {
   "cell_type": "code",
   "execution_count": 2,
   "metadata": {},
   "outputs": [],
   "source": [
    "# Set default plotting parameters\n",
    "plt.rcParams['figure.figsize'] = [20.0, 7.0]\n",
    "plt.rcParams.update({'font.size': 22})\n",
    "\n",
    "sns.set_palette('colorblind')\n",
    "sns.set_style('white')\n",
    "sns.set_context('talk')"
   ]
  },
  {
   "cell_type": "markdown",
   "metadata": {},
   "source": [
    "Read in the data plus basic easy questions.  How much data do I have?  Are there missing values?  What are the data types?"
   ]
  },
  {
   "cell_type": "code",
   "execution_count": 3,
   "metadata": {},
   "outputs": [
    {
     "name": "stdout",
     "output_type": "stream",
     "text": [
      "(5000, 5)\n"
     ]
    },
    {
     "data": {
      "text/html": [
       "<div>\n",
       "<style scoped>\n",
       "    .dataframe tbody tr th:only-of-type {\n",
       "        vertical-align: middle;\n",
       "    }\n",
       "\n",
       "    .dataframe tbody tr th {\n",
       "        vertical-align: top;\n",
       "    }\n",
       "\n",
       "    .dataframe thead th {\n",
       "        text-align: right;\n",
       "    }\n",
       "</style>\n",
       "<table border=\"1\" class=\"dataframe\">\n",
       "  <thead>\n",
       "    <tr style=\"text-align: right;\">\n",
       "      <th></th>\n",
       "      <th>Worker ID</th>\n",
       "      <th>Worker Name</th>\n",
       "      <th>Hire Date</th>\n",
       "      <th>Worker Status</th>\n",
       "      <th>Team</th>\n",
       "    </tr>\n",
       "  </thead>\n",
       "  <tbody>\n",
       "    <tr>\n",
       "      <th>0</th>\n",
       "      <td>1000</td>\n",
       "      <td>Paul Clark</td>\n",
       "      <td>2020-09-12</td>\n",
       "      <td>Part Time</td>\n",
       "      <td>SeaGreen</td>\n",
       "    </tr>\n",
       "    <tr>\n",
       "      <th>1</th>\n",
       "      <td>1001</td>\n",
       "      <td>Andrea White</td>\n",
       "      <td>2001-11-08</td>\n",
       "      <td>Full Time</td>\n",
       "      <td>Crimson</td>\n",
       "    </tr>\n",
       "    <tr>\n",
       "      <th>2</th>\n",
       "      <td>1002</td>\n",
       "      <td>Daniel Taylor</td>\n",
       "      <td>2002-06-10</td>\n",
       "      <td>Part Time</td>\n",
       "      <td>LightSteelBlue</td>\n",
       "    </tr>\n",
       "    <tr>\n",
       "      <th>3</th>\n",
       "      <td>1003</td>\n",
       "      <td>Ann Manning</td>\n",
       "      <td>2019-09-13</td>\n",
       "      <td>Per Diem</td>\n",
       "      <td>Crimson</td>\n",
       "    </tr>\n",
       "    <tr>\n",
       "      <th>4</th>\n",
       "      <td>1004</td>\n",
       "      <td>Brenda Gonzales</td>\n",
       "      <td>2000-12-23</td>\n",
       "      <td>Part Time</td>\n",
       "      <td>Crimson</td>\n",
       "    </tr>\n",
       "  </tbody>\n",
       "</table>\n",
       "</div>"
      ],
      "text/plain": [
       "   Worker ID      Worker Name   Hire Date Worker Status            Team\n",
       "0       1000       Paul Clark  2020-09-12     Part Time        SeaGreen\n",
       "1       1001     Andrea White  2001-11-08     Full Time         Crimson\n",
       "2       1002    Daniel Taylor  2002-06-10     Part Time  LightSteelBlue\n",
       "3       1003      Ann Manning  2019-09-13      Per Diem         Crimson\n",
       "4       1004  Brenda Gonzales  2000-12-23     Part Time         Crimson"
      ]
     },
     "execution_count": 3,
     "metadata": {},
     "output_type": "execute_result"
    }
   ],
   "source": [
    "# read in worker data\n",
    "worker_df = pd.read_csv('data/workers.csv')\n",
    "print(worker_df.shape)\n",
    "worker_df.head()"
   ]
  },
  {
   "cell_type": "code",
   "execution_count": 4,
   "metadata": {},
   "outputs": [
    {
     "name": "stdout",
     "output_type": "stream",
     "text": [
      "Unique Worker ID: 5000\n",
      "Unique Worker Name: 4820\n",
      "Unique Hire Date: 4028\n",
      "Unique Worker Status: 3\n",
      "Unique Team: 4\n"
     ]
    }
   ],
   "source": [
    "# check number of unique values in the dataset\n",
    "for i in list(worker_df.columns):\n",
    "    print(f'Unique {i}: {worker_df[i].nunique()}')"
   ]
  },
  {
   "cell_type": "code",
   "execution_count": 5,
   "metadata": {},
   "outputs": [
    {
     "data": {
      "text/plain": [
       "Worker ID        0\n",
       "Worker Name      0\n",
       "Hire Date        0\n",
       "Worker Status    0\n",
       "Team             0\n",
       "dtype: int64"
      ]
     },
     "execution_count": 5,
     "metadata": {},
     "output_type": "execute_result"
    }
   ],
   "source": [
    "# checking for null values\n",
    "worker_df.isnull().sum()"
   ]
  },
  {
   "cell_type": "code",
   "execution_count": 11,
   "metadata": {},
   "outputs": [
    {
     "data": {
      "text/html": [
       "<div>\n",
       "<style scoped>\n",
       "    .dataframe tbody tr th:only-of-type {\n",
       "        vertical-align: middle;\n",
       "    }\n",
       "\n",
       "    .dataframe tbody tr th {\n",
       "        vertical-align: top;\n",
       "    }\n",
       "\n",
       "    .dataframe thead th {\n",
       "        text-align: right;\n",
       "    }\n",
       "</style>\n",
       "<table border=\"1\" class=\"dataframe\">\n",
       "  <thead>\n",
       "    <tr style=\"text-align: right;\">\n",
       "      <th></th>\n",
       "      <th>Worker ID</th>\n",
       "    </tr>\n",
       "  </thead>\n",
       "  <tbody>\n",
       "    <tr>\n",
       "      <th>count</th>\n",
       "      <td>5000.000000</td>\n",
       "    </tr>\n",
       "    <tr>\n",
       "      <th>mean</th>\n",
       "      <td>3499.500000</td>\n",
       "    </tr>\n",
       "    <tr>\n",
       "      <th>std</th>\n",
       "      <td>1443.520003</td>\n",
       "    </tr>\n",
       "    <tr>\n",
       "      <th>min</th>\n",
       "      <td>1000.000000</td>\n",
       "    </tr>\n",
       "    <tr>\n",
       "      <th>25%</th>\n",
       "      <td>2249.750000</td>\n",
       "    </tr>\n",
       "    <tr>\n",
       "      <th>50%</th>\n",
       "      <td>3499.500000</td>\n",
       "    </tr>\n",
       "    <tr>\n",
       "      <th>75%</th>\n",
       "      <td>4749.250000</td>\n",
       "    </tr>\n",
       "    <tr>\n",
       "      <th>max</th>\n",
       "      <td>5999.000000</td>\n",
       "    </tr>\n",
       "  </tbody>\n",
       "</table>\n",
       "</div>"
      ],
      "text/plain": [
       "         Worker ID\n",
       "count  5000.000000\n",
       "mean   3499.500000\n",
       "std    1443.520003\n",
       "min    1000.000000\n",
       "25%    2249.750000\n",
       "50%    3499.500000\n",
       "75%    4749.250000\n",
       "max    5999.000000"
      ]
     },
     "execution_count": 11,
     "metadata": {},
     "output_type": "execute_result"
    }
   ],
   "source": [
    "# statistics about numerical data\n",
    "### 'Worker ID' is the only numerical column  - this column is an identity column according to the readme\n",
    "worker_df.describe()"
   ]
  },
  {
   "cell_type": "code",
   "execution_count": 6,
   "metadata": {},
   "outputs": [
    {
     "name": "stdout",
     "output_type": "stream",
     "text": [
      "<class 'pandas.core.frame.DataFrame'>\n",
      "RangeIndex: 5000 entries, 0 to 4999\n",
      "Data columns (total 5 columns):\n",
      " #   Column         Non-Null Count  Dtype \n",
      "---  ------         --------------  ----- \n",
      " 0   Worker ID      5000 non-null   int64 \n",
      " 1   Worker Name    5000 non-null   object\n",
      " 2   Hire Date      5000 non-null   object\n",
      " 3   Worker Status  5000 non-null   object\n",
      " 4   Team           5000 non-null   object\n",
      "dtypes: int64(1), object(4)\n",
      "memory usage: 195.4+ KB\n"
     ]
    }
   ],
   "source": [
    "# checking column types\n",
    "###### 'Hire Date' column isn't a date - we'll need to fix \n",
    "worker_df.info()"
   ]
  },
  {
   "cell_type": "code",
   "execution_count": 7,
   "metadata": {},
   "outputs": [
    {
     "name": "stdout",
     "output_type": "stream",
     "text": [
      "<class 'pandas.core.frame.DataFrame'>\n",
      "RangeIndex: 5000 entries, 0 to 4999\n",
      "Data columns (total 5 columns):\n",
      " #   Column         Non-Null Count  Dtype         \n",
      "---  ------         --------------  -----         \n",
      " 0   Worker ID      5000 non-null   int64         \n",
      " 1   Worker Name    5000 non-null   object        \n",
      " 2   Hire Date      5000 non-null   datetime64[ns]\n",
      " 3   Worker Status  5000 non-null   object        \n",
      " 4   Team           5000 non-null   object        \n",
      "dtypes: datetime64[ns](1), int64(1), object(3)\n",
      "memory usage: 195.4+ KB\n",
      "None\n",
      "Min Date: 1991-07-11 00:00:00\n",
      "Max Date: 2021-07-08 00:00:00\n"
     ]
    }
   ],
   "source": [
    "# convert 'Hire Date' to datetime\n",
    "worker_df['Hire Date'] = pd.to_datetime(worker_df['Hire Date'])\n",
    "\n",
    "# check that it worked\n",
    "print(worker_df.info())\n",
    "\n",
    "# check date range of dataset\n",
    "print(f\"Min Date: {worker_df['Hire Date'].min()}\")\n",
    "print(f\"Max Date: {worker_df['Hire Date'].max()}\")"
   ]
  },
  {
   "cell_type": "code",
   "execution_count": 16,
   "metadata": {},
   "outputs": [
    {
     "data": {
      "image/png": "[encoded data removed]",
      "text/plain": [
       "<Figure size 1440x504 with 1 Axes>"
      ]
     },
     "metadata": {},
     "output_type": "display_data"
    }
   ],
   "source": [
    "#visualize status feature\n",
    "sns.countplot(x=worker_df['Worker Status'], order = worker_df['Worker Status'].value_counts().index, palette='colorblind')\n",
    "sns.despine(left=True, bottom=True)\n",
    "plt.title('Workers by Worker Status')\n",
    "plt.show()"
   ]
  },
  {
   "cell_type": "markdown",
   "metadata": {},
   "source": [
    "After each plot I like to use a markdown cell to remark on any key observations that can be drawn.  Even if these observations are simple, creating a short meaningful caption can help your EDA look complete and well thought out.  \n",
    "\n",
    "I also try to give each vizualization a desriptive title and to use a consistent color palette throughout the notebook.\n",
    "\n",
    "Here we can see that a majority of workers are full time.  We have less workers that are categorized as part time and per diem."
   ]
  },
  {
   "cell_type": "code",
   "execution_count": 18,
   "metadata": {},
   "outputs": [
    {
     "data": {
      "image/png": "[encoded data removed]",
      "text/plain": [
       "<Figure size 1440x504 with 1 Axes>"
      ]
     },
     "metadata": {},
     "output_type": "display_data"
    }
   ],
   "source": [
    "#visualize team feature\n",
    "sns.countplot(y=worker_df['Team'], order = worker_df['Team'].value_counts().index, palette='colorblind')\n",
    "sns.despine(left=True, bottom=True)\n",
    "plt.title('Workers by Team')\n",
    "plt.show()"
   ]
  },
  {
   "cell_type": "markdown",
   "metadata": {},
   "source": [
    "It can also be helpful to start asking questions about the data.  Does one feature relate to another that we have?\n",
    "\n",
    "Here we see that the teams are of similar sizes.  Midnight Blue has the most members and Crimson the least.  It could be interesting to explore how the teams are assigned.  Could it be based on job title, location, or worker status?"
   ]
  },
  {
   "cell_type": "code",
   "execution_count": 28,
   "metadata": {},
   "outputs": [
    {
     "data": {
      "image/png": "[encoded data removed]",
      "text/plain": [
       "<Figure size 1440x504 with 1 Axes>"
      ]
     },
     "metadata": {},
     "output_type": "display_data"
    }
   ],
   "source": [
    "#visualize team by worker status\n",
    "fig, ax = plt.subplots()\n",
    "g = sns.countplot(x=worker_df['Team'], hue=worker_df['Worker Status'], palette='colorblind')\n",
    "g.set_yticklabels([])\n",
    "\n",
    "# function to show values on bars\n",
    "def show_values_on_bars(axs):\n",
    "    def _show_on_single_plot(ax):        \n",
    "        for p in ax.patches:\n",
    "            _x = p.get_x() + p.get_width() / 2\n",
    "            _y = p.get_y() + p.get_height()\n",
    "            value = '{:.0f}'.format(p.get_height())\n",
    "            ax.text(_x, _y, value, ha=\"center\") \n",
    "\n",
    "    if isinstance(axs, np.ndarray):\n",
    "        for idx, ax in np.ndenumerate(axs):\n",
    "            _show_on_single_plot(ax)\n",
    "    else:\n",
    "        _show_on_single_plot(axs)\n",
    "show_values_on_bars(ax)\n",
    "\n",
    "# position the legend so that it doesn't cover any bard\n",
    "leg = plt.legend( loc = 'upper right')\n",
    "plt.draw() \n",
    "# Get the bounding box of the original legend\n",
    "bb = leg.get_bbox_to_anchor().inverse_transformed(ax.transAxes)\n",
    "# Change location of the legend. \n",
    "xOffset = 0.1\n",
    "bb.x0 += xOffset\n",
    "bb.x1 += xOffset\n",
    "leg.set_bbox_to_anchor(bb, transform = ax.transAxes)\n",
    "\n",
    "sns.despine(left=True, bottom=True)\n",
    "plt.title('Workers by Team and Worker Status')\n",
    "plt.ylabel('')\n",
    "plt.xlabel('')\n",
    "plt.show()"
   ]
  },
  {
   "cell_type": "markdown",
   "metadata": {},
   "source": [
    "Here we can see there is a relatively equal distribution of workers to teams by worker status.  This suggests that workers are not assigned to teams by their status."
   ]
  },
  {
   "cell_type": "code",
   "execution_count": 8,
   "metadata": {},
   "outputs": [
    {
     "name": "stdout",
     "output_type": "stream",
     "text": [
      "(2817555, 5)\n"
     ]
    },
    {
     "data": {
      "text/html": [
       "<div>\n",
       "<style scoped>\n",
       "    .dataframe tbody tr th:only-of-type {\n",
       "        vertical-align: middle;\n",
       "    }\n",
       "\n",
       "    .dataframe tbody tr th {\n",
       "        vertical-align: top;\n",
       "    }\n",
       "\n",
       "    .dataframe thead th {\n",
       "        text-align: right;\n",
       "    }\n",
       "</style>\n",
       "<table border=\"1\" class=\"dataframe\">\n",
       "  <thead>\n",
       "    <tr style=\"text-align: right;\">\n",
       "      <th></th>\n",
       "      <th>Item Number</th>\n",
       "      <th>Step 1</th>\n",
       "      <th>Step 2</th>\n",
       "      <th>Step 3</th>\n",
       "      <th>Worker ID</th>\n",
       "    </tr>\n",
       "  </thead>\n",
       "  <tbody>\n",
       "    <tr>\n",
       "      <th>0</th>\n",
       "      <td>4411865360-1000</td>\n",
       "      <td>0.635369</td>\n",
       "      <td>4.377276</td>\n",
       "      <td>2.734590</td>\n",
       "      <td>1000</td>\n",
       "    </tr>\n",
       "    <tr>\n",
       "      <th>1</th>\n",
       "      <td>4411865392-1000</td>\n",
       "      <td>2.047647</td>\n",
       "      <td>3.870909</td>\n",
       "      <td>12.698644</td>\n",
       "      <td>1000</td>\n",
       "    </tr>\n",
       "    <tr>\n",
       "      <th>2</th>\n",
       "      <td>4411865424-1000</td>\n",
       "      <td>0.870676</td>\n",
       "      <td>6.347963</td>\n",
       "      <td>7.655127</td>\n",
       "      <td>1000</td>\n",
       "    </tr>\n",
       "    <tr>\n",
       "      <th>3</th>\n",
       "      <td>4411865456-1000</td>\n",
       "      <td>2.938096</td>\n",
       "      <td>3.933764</td>\n",
       "      <td>3.550750</td>\n",
       "      <td>1000</td>\n",
       "    </tr>\n",
       "    <tr>\n",
       "      <th>4</th>\n",
       "      <td>4411865488-1000</td>\n",
       "      <td>2.951892</td>\n",
       "      <td>3.363985</td>\n",
       "      <td>3.820368</td>\n",
       "      <td>1000</td>\n",
       "    </tr>\n",
       "  </tbody>\n",
       "</table>\n",
       "</div>"
      ],
      "text/plain": [
       "       Item Number    Step 1    Step 2     Step 3  Worker ID\n",
       "0  4411865360-1000  0.635369  4.377276   2.734590       1000\n",
       "1  4411865392-1000  2.047647  3.870909  12.698644       1000\n",
       "2  4411865424-1000  0.870676  6.347963   7.655127       1000\n",
       "3  4411865456-1000  2.938096  3.933764   3.550750       1000\n",
       "4  4411865488-1000  2.951892  3.363985   3.820368       1000"
      ]
     },
     "execution_count": 8,
     "metadata": {},
     "output_type": "execute_result"
    }
   ],
   "source": [
    "# read in widget data\n",
    "widget_df = pd.read_csv('data/widgets.csv')\n",
    "print(widget_df.shape)\n",
    "widget_df.head()"
   ]
  },
  {
   "cell_type": "code",
   "execution_count": 9,
   "metadata": {},
   "outputs": [
    {
     "data": {
      "text/plain": [
       "Item Number    0\n",
       "Step 1         0\n",
       "Step 2         0\n",
       "Step 3         0\n",
       "Worker ID      0\n",
       "dtype: int64"
      ]
     },
     "execution_count": 9,
     "metadata": {},
     "output_type": "execute_result"
    }
   ],
   "source": [
    "# checking for null values\n",
    "widget_df.isnull().sum()"
   ]
  },
  {
   "cell_type": "code",
   "execution_count": 10,
   "metadata": {},
   "outputs": [
    {
     "data": {
      "text/html": [
       "<div>\n",
       "<style scoped>\n",
       "    .dataframe tbody tr th:only-of-type {\n",
       "        vertical-align: middle;\n",
       "    }\n",
       "\n",
       "    .dataframe tbody tr th {\n",
       "        vertical-align: top;\n",
       "    }\n",
       "\n",
       "    .dataframe thead th {\n",
       "        text-align: right;\n",
       "    }\n",
       "</style>\n",
       "<table border=\"1\" class=\"dataframe\">\n",
       "  <thead>\n",
       "    <tr style=\"text-align: right;\">\n",
       "      <th></th>\n",
       "      <th>Step 1</th>\n",
       "      <th>Step 2</th>\n",
       "      <th>Step 3</th>\n",
       "      <th>Worker ID</th>\n",
       "    </tr>\n",
       "  </thead>\n",
       "  <tbody>\n",
       "    <tr>\n",
       "      <th>count</th>\n",
       "      <td>2.817555e+06</td>\n",
       "      <td>2.817555e+06</td>\n",
       "      <td>2.817555e+06</td>\n",
       "      <td>2.817555e+06</td>\n",
       "    </tr>\n",
       "    <tr>\n",
       "      <th>mean</th>\n",
       "      <td>2.999583e+00</td>\n",
       "      <td>4.999611e+00</td>\n",
       "      <td>4.000098e+00</td>\n",
       "      <td>3.503214e+03</td>\n",
       "    </tr>\n",
       "    <tr>\n",
       "      <th>std</th>\n",
       "      <td>1.730051e+00</td>\n",
       "      <td>9.998504e-01</td>\n",
       "      <td>4.000131e+00</td>\n",
       "      <td>1.438283e+03</td>\n",
       "    </tr>\n",
       "    <tr>\n",
       "      <th>min</th>\n",
       "      <td>1.551238e-02</td>\n",
       "      <td>-1.133441e-01</td>\n",
       "      <td>4.070183e-07</td>\n",
       "      <td>1.000000e+03</td>\n",
       "    </tr>\n",
       "    <tr>\n",
       "      <th>25%</th>\n",
       "      <td>1.727544e+00</td>\n",
       "      <td>4.325530e+00</td>\n",
       "      <td>1.149915e+00</td>\n",
       "      <td>2.268000e+03</td>\n",
       "    </tr>\n",
       "    <tr>\n",
       "      <th>50%</th>\n",
       "      <td>2.674542e+00</td>\n",
       "      <td>4.999830e+00</td>\n",
       "      <td>2.770930e+00</td>\n",
       "      <td>3.501000e+03</td>\n",
       "    </tr>\n",
       "    <tr>\n",
       "      <th>75%</th>\n",
       "      <td>3.920415e+00</td>\n",
       "      <td>5.674386e+00</td>\n",
       "      <td>5.546493e+00</td>\n",
       "      <td>4.749000e+03</td>\n",
       "    </tr>\n",
       "    <tr>\n",
       "      <th>max</th>\n",
       "      <td>2.119987e+01</td>\n",
       "      <td>9.963565e+00</td>\n",
       "      <td>6.497195e+01</td>\n",
       "      <td>5.999000e+03</td>\n",
       "    </tr>\n",
       "  </tbody>\n",
       "</table>\n",
       "</div>"
      ],
      "text/plain": [
       "             Step 1        Step 2        Step 3     Worker ID\n",
       "count  2.817555e+06  2.817555e+06  2.817555e+06  2.817555e+06\n",
       "mean   2.999583e+00  4.999611e+00  4.000098e+00  3.503214e+03\n",
       "std    1.730051e+00  9.998504e-01  4.000131e+00  1.438283e+03\n",
       "min    1.551238e-02 -1.133441e-01  4.070183e-07  1.000000e+03\n",
       "25%    1.727544e+00  4.325530e+00  1.149915e+00  2.268000e+03\n",
       "50%    2.674542e+00  4.999830e+00  2.770930e+00  3.501000e+03\n",
       "75%    3.920415e+00  5.674386e+00  5.546493e+00  4.749000e+03\n",
       "max    2.119987e+01  9.963565e+00  6.497195e+01  5.999000e+03"
      ]
     },
     "execution_count": 10,
     "metadata": {},
     "output_type": "execute_result"
    }
   ],
   "source": [
    "# statistics about numerical data\n",
    "widget_df.describe()"
   ]
  },
  {
   "cell_type": "code",
   "execution_count": 11,
   "metadata": {},
   "outputs": [
    {
     "name": "stdout",
     "output_type": "stream",
     "text": [
      "<class 'pandas.core.frame.DataFrame'>\n",
      "RangeIndex: 2817555 entries, 0 to 2817554\n",
      "Data columns (total 5 columns):\n",
      " #   Column       Dtype  \n",
      "---  ------       -----  \n",
      " 0   Item Number  object \n",
      " 1   Step 1       float64\n",
      " 2   Step 2       float64\n",
      " 3   Step 3       float64\n",
      " 4   Worker ID    int64  \n",
      "dtypes: float64(3), int64(1), object(1)\n",
      "memory usage: 107.5+ MB\n"
     ]
    }
   ],
   "source": [
    "# checking column types\n",
    "widget_df.info()"
   ]
  },
  {
   "cell_type": "code",
   "execution_count": 33,
   "metadata": {},
   "outputs": [
    {
     "data": {
      "image/png": "[encoded data removed]",
      "text/plain": [
       "<Figure size 1440x504 with 4 Axes>"
      ]
     },
     "metadata": {},
     "output_type": "display_data"
    }
   ],
   "source": [
    "# create histograms of all numerical data\n",
    "\n",
    "# we know worker id is an identity column so removing it from this visualization\n",
    "widget_df_hist = widget_df[['Step 1', 'Step 2', 'Step 3']]\n",
    "widget_df_hist.hist()\n",
    "plt.show()"
   ]
  },
  {
   "cell_type": "markdown",
   "metadata": {},
   "source": [
    "Here we see histograms of each step in the widget making process.  For steps 1 and 3, it looks like a majority of workers complete the steps quickly and there are long tails where the task takes much longer to complete.  The long tails could be due to errors in recording the data, or due to workers having trouble completing the steps.  This would be interesting to explore further.\n",
    "\n",
    "Step 2 appears to have a normal distribution.  Could step 2 be an easier to complete or more automated step in the widget making process?"
   ]
  },
  {
   "cell_type": "code",
   "execution_count": 30,
   "metadata": {},
   "outputs": [
    {
     "data": {
      "text/html": [
       "<div>\n",
       "<style scoped>\n",
       "    .dataframe tbody tr th:only-of-type {\n",
       "        vertical-align: middle;\n",
       "    }\n",
       "\n",
       "    .dataframe tbody tr th {\n",
       "        vertical-align: top;\n",
       "    }\n",
       "\n",
       "    .dataframe thead th {\n",
       "        text-align: right;\n",
       "    }\n",
       "</style>\n",
       "<table border=\"1\" class=\"dataframe\">\n",
       "  <thead>\n",
       "    <tr style=\"text-align: right;\">\n",
       "      <th></th>\n",
       "      <th>Worker ID</th>\n",
       "      <th>Item Number</th>\n",
       "      <th>Step 1</th>\n",
       "      <th>Step 2</th>\n",
       "      <th>Step 3</th>\n",
       "    </tr>\n",
       "  </thead>\n",
       "  <tbody>\n",
       "    <tr>\n",
       "      <th>0</th>\n",
       "      <td>1000</td>\n",
       "      <td>482</td>\n",
       "      <td>3.070280</td>\n",
       "      <td>4.991148</td>\n",
       "      <td>4.391818</td>\n",
       "    </tr>\n",
       "    <tr>\n",
       "      <th>1</th>\n",
       "      <td>1001</td>\n",
       "      <td>767</td>\n",
       "      <td>3.055896</td>\n",
       "      <td>5.027923</td>\n",
       "      <td>4.042051</td>\n",
       "    </tr>\n",
       "    <tr>\n",
       "      <th>2</th>\n",
       "      <td>1002</td>\n",
       "      <td>201</td>\n",
       "      <td>3.059709</td>\n",
       "      <td>5.083601</td>\n",
       "      <td>3.759197</td>\n",
       "    </tr>\n",
       "    <tr>\n",
       "      <th>3</th>\n",
       "      <td>1003</td>\n",
       "      <td>585</td>\n",
       "      <td>3.066364</td>\n",
       "      <td>5.009311</td>\n",
       "      <td>3.912284</td>\n",
       "    </tr>\n",
       "    <tr>\n",
       "      <th>4</th>\n",
       "      <td>1004</td>\n",
       "      <td>376</td>\n",
       "      <td>2.901795</td>\n",
       "      <td>5.052831</td>\n",
       "      <td>3.908283</td>\n",
       "    </tr>\n",
       "  </tbody>\n",
       "</table>\n",
       "</div>"
      ],
      "text/plain": [
       "   Worker ID  Item Number    Step 1    Step 2    Step 3\n",
       "0       1000          482  3.070280  4.991148  4.391818\n",
       "1       1001          767  3.055896  5.027923  4.042051\n",
       "2       1002          201  3.059709  5.083601  3.759197\n",
       "3       1003          585  3.066364  5.009311  3.912284\n",
       "4       1004          376  2.901795  5.052831  3.908283"
      ]
     },
     "execution_count": 30,
     "metadata": {},
     "output_type": "execute_result"
    }
   ],
   "source": [
    "# group the data to find widget making statistics by worker\n",
    "widgets_grouped = widget_df.groupby(['Worker ID']).agg({'Item Number':'count',\n",
    "                                                        'Step 1':'mean',\n",
    "                                                        'Step 2':'mean',\n",
    "                                                        'Step 3':'mean'}).reset_index()\n",
    "widgets_grouped.head()"
   ]
  },
  {
   "cell_type": "code",
   "execution_count": null,
   "metadata": {},
   "outputs": [],
   "source": []
  }
 ],
 "metadata": {
  "kernelspec": {
   "display_name": "Python 3",
   "language": "python",
   "name": "python3"
  },
  "language_info": {
   "codemirror_mode": {
    "name": "ipython",
    "version": 3
   },
   "file_extension": ".py",
   "mimetype": "text/x-python",
   "name": "python",
   "nbconvert_exporter": "python",
   "pygments_lexer": "ipython3",
   "version": "3.9.1"
  }
 },
 "nbformat": 4,
 "nbformat_minor": 4
}
