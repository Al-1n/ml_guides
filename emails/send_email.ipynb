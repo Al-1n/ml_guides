{
 "cells": [
  {
   "cell_type": "code",
   "execution_count": 8,
   "metadata": {},
   "outputs": [],
   "source": [
    "import os\n",
    "from smtplib import SMTP_SSL\n",
    "import ssl\n",
    "from email.mime.multipart import MIMEMultipart\n",
    "from email.mime.text import MIMEText\n",
    "from email.mime.base import MIMEBase\n",
    "from email.mime.image import MIMEImage\n",
    "from email import encoders"
   ]
  },
  {
   "cell_type": "code",
   "execution_count": 9,
   "metadata": {},
   "outputs": [],
   "source": [
    "# send email with optional image and multiple attachments\n",
    "def send_email(send_to, \n",
    "               subject='Email Subject', \n",
    "               body='Email Body', \n",
    "               attachments=[], \n",
    "               image=None,\n",
    "               send_from='Test Email <mutualdeadlyfrog@gmail.com', \n",
    "               cc=None, \n",
    "               bcc=None):\n",
    "    \n",
    "    # define message\n",
    "    msg = MIMEMultipart()\n",
    "    \n",
    "    # add body to the email\n",
    "    body = body\n",
    "    msg.attach(MIMEText(body, 'html'))\n",
    "    \n",
    "    # if we have an image add it to the email\n",
    "    if image:\n",
    "        with open(image, 'rb') as i:\n",
    "            msg_image = MIMEImage(i.read())\n",
    "        msg_image.add_header('Contect-ID', '<image>')\n",
    "        msg.attach(msg_image)\n",
    "        \n",
    "    # add the things\n",
    "    msg['Subject'] = subject\n",
    "    msg['To'] = send_to\n",
    "    msg['From'] = send_from\n",
    "    msg['Cc'] = cc\n",
    "    msg['Bcc'] = bcc\n",
    "    \n",
    "    # add attachments to the email\n",
    "    for attachment in attachments:\n",
    "        filename = os.path.basename(attachment)\n",
    "        \n",
    "        # open file in binary mode\n",
    "        with open(attachment, 'rb') as a:\n",
    "            part = MIMEBase('application', 'octet-stream')\n",
    "            part.set_payload(a.read())\n",
    "            \n",
    "        # encode in ASCII to send by email\n",
    "        encoders.encode_base64(part)\n",
    "        \n",
    "        # add header as key/value pair to attachment part\n",
    "        part.add_header('Content-Disposition', f'attachment; filename={filename}')\n",
    "        \n",
    "        # add attachment to msg\n",
    "        msg.attach(part)\n",
    "        \n",
    "    # create secure context\n",
    "    context = ssl.create_default_context()\n",
    "    \n",
    "    # send the message using tls encrypted connection\n",
    "    with SMTP_SSL('smtp.gmail.com', port=465, context=context) as s:\n",
    "        s.login('mutualdeadlyfrog@gmail.com', 'testpass1!')\n",
    "    \n",
    "        s.send_message(msg)\n",
    " "
   ]
  },
  {
   "cell_type": "code",
   "execution_count": 10,
   "metadata": {},
   "outputs": [],
   "source": [
    "send_email('mutualdeadlyfrog@gmail.com')"
   ]
  },
  {
   "cell_type": "code",
   "execution_count": null,
   "metadata": {},
   "outputs": [],
   "source": [
    "# create sample email body\n",
    "body = '''\n",
    "    <html>\n",
    "    <p>Please see the attached report.</p>\n",
    "    \n",
    "    </html>\n",
    "'''"
   ]
  }
 ],
 "metadata": {
  "kernelspec": {
   "display_name": "Python 3",
   "language": "python",
   "name": "python3"
  },
  "language_info": {
   "codemirror_mode": {
    "name": "ipython",
    "version": 3
   },
   "file_extension": ".py",
   "mimetype": "text/x-python",
   "name": "python",
   "nbconvert_exporter": "python",
   "pygments_lexer": "ipython3",
   "version": "3.9.1"
  }
 },
 "nbformat": 4,
 "nbformat_minor": 4
}
