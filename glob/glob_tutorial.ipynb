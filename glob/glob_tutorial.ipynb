{
 "cells": [
  {
   "cell_type": "markdown",
   "metadata": {},
   "source": [
    "# Python Glob Tutorial"
   ]
  },
  {
   "cell_type": "code",
   "execution_count": 13,
   "metadata": {},
   "outputs": [],
   "source": [
    "import pandas as pd\n",
    "import glob\n",
    "import os"
   ]
  },
  {
   "cell_type": "code",
   "execution_count": 7,
   "metadata": {},
   "outputs": [
    {
     "data": {
      "text/plain": [
       "['input/KRO.csv',\n",
       " 'input/MSFT.csv',\n",
       " 'input/TSLA.csv',\n",
       " 'input/GHC.csv',\n",
       " 'input/AAPL.csv']"
      ]
     },
     "execution_count": 7,
     "metadata": {},
     "output_type": "execute_result"
    }
   ],
   "source": [
    "# set search path and glob for files\n",
    "# here we want to look for csv files in the input directory\n",
    "path = 'input'\n",
    "files = glob.glob(path + '/*.csv')\n",
    "files"
   ]
  },
  {
   "cell_type": "code",
   "execution_count": 11,
   "metadata": {},
   "outputs": [
    {
     "name": "stdout",
     "output_type": "stream",
     "text": [
      "Successfully created dataframe for input/KRO.csv with shape (1258, 6)\n",
      "Successfully created dataframe for input/MSFT.csv with shape (1258, 6)\n",
      "Successfully created dataframe for input/TSLA.csv with shape (1258, 6)\n",
      "Successfully created dataframe for input/GHC.csv with shape (1258, 6)\n",
      "Successfully created dataframe for input/AAPL.csv with shape (1258, 6)\n",
      "(6290, 6)\n"
     ]
    },
    {
     "data": {
      "text/html": [
       "<div>\n",
       "<style scoped>\n",
       "    .dataframe tbody tr th:only-of-type {\n",
       "        vertical-align: middle;\n",
       "    }\n",
       "\n",
       "    .dataframe tbody tr th {\n",
       "        vertical-align: top;\n",
       "    }\n",
       "\n",
       "    .dataframe thead th {\n",
       "        text-align: right;\n",
       "    }\n",
       "</style>\n",
       "<table border=\"1\" class=\"dataframe\">\n",
       "  <thead>\n",
       "    <tr style=\"text-align: right;\">\n",
       "      <th></th>\n",
       "      <th>time</th>\n",
       "      <th>open</th>\n",
       "      <th>high</th>\n",
       "      <th>low</th>\n",
       "      <th>close</th>\n",
       "      <th>volume</th>\n",
       "    </tr>\n",
       "  </thead>\n",
       "  <tbody>\n",
       "    <tr>\n",
       "      <th>0</th>\n",
       "      <td>2016-01-11 00:00:00-05:00</td>\n",
       "      <td>98.97</td>\n",
       "      <td>99.06</td>\n",
       "      <td>97.3400</td>\n",
       "      <td>98.53</td>\n",
       "      <td>42721303</td>\n",
       "    </tr>\n",
       "    <tr>\n",
       "      <th>1</th>\n",
       "      <td>2016-01-12 00:00:00-05:00</td>\n",
       "      <td>100.55</td>\n",
       "      <td>100.69</td>\n",
       "      <td>98.8399</td>\n",
       "      <td>99.96</td>\n",
       "      <td>41812613</td>\n",
       "    </tr>\n",
       "    <tr>\n",
       "      <th>2</th>\n",
       "      <td>2016-01-13 00:00:00-05:00</td>\n",
       "      <td>100.32</td>\n",
       "      <td>101.19</td>\n",
       "      <td>97.3000</td>\n",
       "      <td>97.41</td>\n",
       "      <td>55622868</td>\n",
       "    </tr>\n",
       "    <tr>\n",
       "      <th>3</th>\n",
       "      <td>2016-01-14 00:00:00-05:00</td>\n",
       "      <td>97.96</td>\n",
       "      <td>100.48</td>\n",
       "      <td>95.7400</td>\n",
       "      <td>99.51</td>\n",
       "      <td>54777253</td>\n",
       "    </tr>\n",
       "    <tr>\n",
       "      <th>4</th>\n",
       "      <td>2016-01-15 00:00:00-05:00</td>\n",
       "      <td>96.20</td>\n",
       "      <td>97.71</td>\n",
       "      <td>95.3600</td>\n",
       "      <td>97.09</td>\n",
       "      <td>62629182</td>\n",
       "    </tr>\n",
       "  </tbody>\n",
       "</table>\n",
       "</div>"
      ],
      "text/plain": [
       "                        time    open    high      low  close    volume\n",
       "0  2016-01-11 00:00:00-05:00   98.97   99.06  97.3400  98.53  42721303\n",
       "1  2016-01-12 00:00:00-05:00  100.55  100.69  98.8399  99.96  41812613\n",
       "2  2016-01-13 00:00:00-05:00  100.32  101.19  97.3000  97.41  55622868\n",
       "3  2016-01-14 00:00:00-05:00   97.96  100.48  95.7400  99.51  54777253\n",
       "4  2016-01-15 00:00:00-05:00   96.20   97.71  95.3600  97.09  62629182"
      ]
     },
     "execution_count": 11,
     "metadata": {},
     "output_type": "execute_result"
    }
   ],
   "source": [
    "# create empty list to store dataframes\n",
    "li = []\n",
    "\n",
    "# loop through list of files and read each one into a dataframe and append to list\n",
    "for f in files:\n",
    "    # read in csv\n",
    "    temp_df = pd.read_csv(f)\n",
    "    # append df to list\n",
    "    li.append(temp_df)\n",
    "    print(f'Successfully created dataframe for {f} with shape {temp_df.shape}')\n",
    "\n",
    "# concatenate our list of dataframes into one!\n",
    "df = pd.concat(li, axis=0)\n",
    "print(df.shape)\n",
    "df.head()"
   ]
  },
  {
   "cell_type": "code",
   "execution_count": 21,
   "metadata": {},
   "outputs": [
    {
     "name": "stdout",
     "output_type": "stream",
     "text": [
      "Successfully created dataframe for KRO.csv with shape (1258, 7)\n",
      "Successfully created dataframe for MSFT.csv with shape (1258, 7)\n",
      "Successfully created dataframe for TSLA.csv with shape (1258, 7)\n",
      "Successfully created dataframe for GHC.csv with shape (1258, 7)\n",
      "Successfully created dataframe for AAPL.csv with shape (1258, 7)\n",
      "(6290, 7)\n"
     ]
    },
    {
     "data": {
      "text/html": [
       "<div>\n",
       "<style scoped>\n",
       "    .dataframe tbody tr th:only-of-type {\n",
       "        vertical-align: middle;\n",
       "    }\n",
       "\n",
       "    .dataframe tbody tr th {\n",
       "        vertical-align: top;\n",
       "    }\n",
       "\n",
       "    .dataframe thead th {\n",
       "        text-align: right;\n",
       "    }\n",
       "</style>\n",
       "<table border=\"1\" class=\"dataframe\">\n",
       "  <thead>\n",
       "    <tr style=\"text-align: right;\">\n",
       "      <th></th>\n",
       "      <th>time</th>\n",
       "      <th>open</th>\n",
       "      <th>high</th>\n",
       "      <th>low</th>\n",
       "      <th>close</th>\n",
       "      <th>volume</th>\n",
       "      <th>ticker</th>\n",
       "    </tr>\n",
       "  </thead>\n",
       "  <tbody>\n",
       "    <tr>\n",
       "      <th>0</th>\n",
       "      <td>2016-01-11 00:00:00-05:00</td>\n",
       "      <td>98.97</td>\n",
       "      <td>99.06</td>\n",
       "      <td>97.3400</td>\n",
       "      <td>98.53</td>\n",
       "      <td>42721303</td>\n",
       "      <td>KRO</td>\n",
       "    </tr>\n",
       "    <tr>\n",
       "      <th>1</th>\n",
       "      <td>2016-01-12 00:00:00-05:00</td>\n",
       "      <td>100.55</td>\n",
       "      <td>100.69</td>\n",
       "      <td>98.8399</td>\n",
       "      <td>99.96</td>\n",
       "      <td>41812613</td>\n",
       "      <td>KRO</td>\n",
       "    </tr>\n",
       "    <tr>\n",
       "      <th>2</th>\n",
       "      <td>2016-01-13 00:00:00-05:00</td>\n",
       "      <td>100.32</td>\n",
       "      <td>101.19</td>\n",
       "      <td>97.3000</td>\n",
       "      <td>97.41</td>\n",
       "      <td>55622868</td>\n",
       "      <td>KRO</td>\n",
       "    </tr>\n",
       "    <tr>\n",
       "      <th>3</th>\n",
       "      <td>2016-01-14 00:00:00-05:00</td>\n",
       "      <td>97.96</td>\n",
       "      <td>100.48</td>\n",
       "      <td>95.7400</td>\n",
       "      <td>99.51</td>\n",
       "      <td>54777253</td>\n",
       "      <td>KRO</td>\n",
       "    </tr>\n",
       "    <tr>\n",
       "      <th>4</th>\n",
       "      <td>2016-01-15 00:00:00-05:00</td>\n",
       "      <td>96.20</td>\n",
       "      <td>97.71</td>\n",
       "      <td>95.3600</td>\n",
       "      <td>97.09</td>\n",
       "      <td>62629182</td>\n",
       "      <td>KRO</td>\n",
       "    </tr>\n",
       "  </tbody>\n",
       "</table>\n",
       "</div>"
      ],
      "text/plain": [
       "                        time    open    high      low  close    volume ticker\n",
       "0  2016-01-11 00:00:00-05:00   98.97   99.06  97.3400  98.53  42721303    KRO\n",
       "1  2016-01-12 00:00:00-05:00  100.55  100.69  98.8399  99.96  41812613    KRO\n",
       "2  2016-01-13 00:00:00-05:00  100.32  101.19  97.3000  97.41  55622868    KRO\n",
       "3  2016-01-14 00:00:00-05:00   97.96  100.48  95.7400  99.51  54777253    KRO\n",
       "4  2016-01-15 00:00:00-05:00   96.20   97.71  95.3600  97.09  62629182    KRO"
      ]
     },
     "execution_count": 21,
     "metadata": {},
     "output_type": "execute_result"
    }
   ],
   "source": [
    "# we have a problem ....\n",
    "# how do we know which rows belong to which stock?\n",
    "# we can add a column with this information\n",
    "\n",
    "li = []\n",
    "\n",
    "# loop through list of files and read each one into a dataframe and append to list\n",
    "for f in files:\n",
    "    # get filename\n",
    "    stock = os.path.basename(f)\n",
    "    # read in csv\n",
    "    temp_df = pd.read_csv(f)\n",
    "    # create new column with filename\n",
    "    temp_df['ticker'] = stock\n",
    "    # data cleaning to remove the .csv\n",
    "    temp_df['ticker'] = temp_df['ticker'].replace('.csv', '', regex=True)\n",
    "    # append df to list\n",
    "    li.append(temp_df)\n",
    "    print(f'Successfully created dataframe for {stock} with shape {temp_df.shape}')\n",
    "\n",
    "# concatenate our list of dataframes into one!\n",
    "df = pd.concat(li, axis=0)\n",
    "print(df.shape)\n",
    "df.head()"
   ]
  },
  {
   "cell_type": "code",
   "execution_count": 37,
   "metadata": {},
   "outputs": [
    {
     "data": {
      "text/plain": [
       "['/Users/tara/ml_guides/superhero-exploratory-analysis.ipynb',\n",
       " '/Users/tara/ml_guides/glob/glob_tutorial.ipynb']"
      ]
     },
     "execution_count": 37,
     "metadata": {},
     "output_type": "execute_result"
    }
   ],
   "source": [
    "### Searching for text in files\n",
    "\n",
    "# set filepath to search\n",
    "path = '/Users/tara/ml_guides/' + '**/*.ipynb'\n",
    "\n",
    "# string to search for\n",
    "search_term = 'kdeplot'\n",
    "\n",
    "# empty list to hold files that contain matching string\n",
    "files_to_check = []\n",
    "\n",
    "# looping through all the filenames returned\n",
    "# set recursive = True to look in sub-directories too\n",
    "for filename in glob.iglob(path, recursive=True):\n",
    "    # adding error handling just in case!\n",
    "    try:\n",
    "        with open(filename) as f:\n",
    "            # read the file as a string\n",
    "            contents = f.read()\n",
    "            # if the search term is found append to the list of files\n",
    "            if(search_term in contents):\n",
    "                files_to_check.append(filename)\n",
    "    except:\n",
    "        pass\n",
    "\n",
    "files_to_check"
   ]
  },
  {
   "cell_type": "code",
   "execution_count": null,
   "metadata": {},
   "outputs": [],
   "source": []
  }
 ],
 "metadata": {
  "kernelspec": {
   "display_name": "Python 3",
   "language": "python",
   "name": "python3"
  },
  "language_info": {
   "codemirror_mode": {
    "name": "ipython",
    "version": 3
   },
   "file_extension": ".py",
   "mimetype": "text/x-python",
   "name": "python",
   "nbconvert_exporter": "python",
   "pygments_lexer": "ipython3",
   "version": "3.9.0"
  }
 },
 "nbformat": 4,
 "nbformat_minor": 4
}
